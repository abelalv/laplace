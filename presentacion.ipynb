{
 "cells": [
  {
   "cell_type": "markdown",
   "metadata": {
    "slideshow": {
     "slide_type": "slide"
    }
   },
   "source": [
    "# Transformada de Laplace\n",
    "\n",
    "Un problema de mezclas con alimentadores controlados mediante válvulas. En el instante $t=0$ se abre la válvula A, para transferir 6 litros/minuto de una solución salina con 0.4 kg de sal por litro. Cuando $t=10$ minutos, la válvula A se cierra y se abre la válvula B y comienzan a pasar 6 litros/minuto de solución salina con una concentración de 0.2 kg/litro. En un principio había 30 kg de sal disueltos en 1000 litros de agua en el tanque. La válvula de salida C, que vacía al tanque a razón de 6 litros/minuto, mantiene el contenido del tanque a volumen constante. Si la solución se mantiene bien revuelta, determine la cantidad de sal en el tanque para cada $t > 0$."
   ]
  },
  {
   "cell_type": "markdown",
   "metadata": {
    "slideshow": {
     "slide_type": "slide"
    }
   },
   "source": [
    "![SNOWFALL](figura1.png)"
   ]
  },
  {
   "cell_type": "markdown",
   "metadata": {
    "slideshow": {
     "slide_type": "slide"
    }
   },
   "source": [
    "Si notamos a $x(t)$ como la cantidad de sal (en kilogramos) en el tanque en el tiempo t. Así $\\frac{x(t)}{100}$ es la antidad de concentración.\n",
    "\n",
    "* De esta forma el contenido que entra en kg/min\n",
    "\n",
    "$$g(t)\\begin{cases}0.4 kg/L \\times 6L/min=2.4 kg/min&\\text{ si } 0<t<10 &\\text{ válvula A}\\\\0.2 kg/L \\times 6L/min=1.2 kg/min&\\text { si } t\\geq10  &\\text{válvula B}\\end{cases},$$\n",
    "\n",
    "* Contenido que sale en kg/min\n",
    "\n",
    "$$\\frac{x(t) kg}{100 L}\\times \\frac{6 L}{min}=\\frac{3 kg}{500 min}.$$\n",
    "\n"
   ]
  },
  {
   "cell_type": "markdown",
   "metadata": {
    "slideshow": {
     "slide_type": "slide"
    }
   },
   "source": [
    "De esta forma la ecuación queda \n",
    "\n",
    "$$\\frac{d}{dt}x(t)=g(t)-\\frac{3x(t)}{500},$$\n",
    "\n",
    "sujeto a la condición inicial $x(0)=30$"
   ]
  },
  {
   "cell_type": "markdown",
   "metadata": {
    "slideshow": {
     "slide_type": "slide"
    }
   },
   "source": [
    "![SNOWFALL](figura2.png)"
   ]
  },
  {
   "cell_type": "markdown",
   "metadata": {
    "slideshow": {
     "slide_type": "slide"
    }
   },
   "source": [
    "# Transformada de laplace\n",
    "\n",
    "\n",
    "## Definción\n",
    "Una función $f(t)$, definida en $[0,\\infty)$ su trnasformada de Laplace es\n",
    "\n",
    "$$ℒ[𝑓](𝑠) =F(s):=\\int_0^{\\infty} e^{-st}f(t)dt.$$\n",
    "\n",
    "\n",
    "Note que es una integral impropia, así\n",
    "\n",
    "$$\\int_0^{\\infty} e^{-st}f(t)dt=\\lim_{N\\to \\infty}\\int_0^Ne^{-st}f(t)dt.$$\n",
    "\n"
   ]
  },
  {
   "cell_type": "markdown",
   "metadata": {
    "slideshow": {
     "slide_type": "slide"
    }
   },
   "source": [
    "### Ejemplo \n",
    "\n",
    "Cálcular la transformada de laplace de  $f(t)=1$, para $t>0$\n",
    "\n",
    "$$F(s)=\\int_0^{\\infty} e^{-st}f(t)dt=\\int_0^{\\infty} e^{-st}dt=\\lim_{N\\to \\infty}\\int_0^Ne^{-st}dt$$\n",
    "$$=\\lim_{N\\to\\infty}\\frac{-e^{-st}}{f}\\Big|_{t=0}^{t=N}=\\lim_{N\\to\\infty}\\Big[\\frac{1}{s}-\\frac{e^{-tN}}{s}\\Big]$$\n",
    "así\n",
    "$$F(s)=\\frac{1}{s},\\text{ para }s>0$$"
   ]
  },
  {
   "cell_type": "markdown",
   "metadata": {
    "slideshow": {
     "slide_type": "slide"
    }
   },
   "source": [
    "## Ejercios \n",
    "Determinar la transformada de Laplace,$\\mathscr{L}[f](s)$ para las siguientes funciones\n",
    "\n",
    "* $f(t)=e^{at}$\n",
    "* $f(t)=\\sin(bt)$\n",
    "* $f(t)=\\begin{cases}2, &\\text{ si }0<t<5,\\\\\n",
    "0,&\\text{ si }5<t<10,\\\\\n",
    "e^{4t},&\\text{ si }10<t.\\end{cases}$"
   ]
  },
  {
   "cell_type": "markdown",
   "metadata": {
    "slideshow": {
     "slide_type": "slide"
    }
   },
   "source": [
    "## Propiedad de linealidad de la transformadade Laplace\n",
    "\n",
    "Sean $f_1$ y $f_2$ funciones cuyas transformadad e laplace existe para $s>\\alpha$ y sea $c$ constante. Entonces, para $s>\\alpha$\n",
    "\n",
    "\\begin{equation}\n",
    "\\mathscr{L}[f_1+f_2](s)=\\mathscr{L}[f_1](s) +\\mathscr{L}[f_2](s).\n",
    "\\label{eq:laplace1} \\tag{1}\n",
    "\\end{equation}\n",
    "\n",
    "\n",
    "\\begin{equation}\n",
    "\\mathscr{L}[cf_1](s)=c\\mathscr{L}[f_1](s).\n",
    "\\label{eq:laplace2} \\tag{2}\n",
    "\\end{equation}"
   ]
  },
  {
   "cell_type": "markdown",
   "metadata": {
    "slideshow": {
     "slide_type": "slide"
    }
   },
   "source": [
    "\n",
    "## Ejemplo \n",
    "Usando la propiedad de linealidad calcular la trnasformada de laplace de \n",
    "\n",
    "*  $f(t)=5$\n",
    "\n",
    "*  $f(t)=2+5e^{4t}$\n",
    "\n",
    "*  $f(t)=t^2+5e^{4t}\\sin(2t)$"
   ]
  },
  {
   "cell_type": "markdown",
   "metadata": {
    "slideshow": {
     "slide_type": "slide"
    }
   },
   "source": [
    "## Existencia de la transformadad de Laplace\n",
    "\n",
    "#### Definición \n",
    "Una función $f(t)$ es continua por partes en un intervalo finito $[a,b]$ si $f(t)$ es continua en cada punto de $[a,b]$, exepto en un número finito de puntos dende $f(t)$ tiene una discontinuidad de salto.\n",
    "\n",
    "Una función $f(t)$ es **continua por partes en $[a,b]$** si $f(t)$ es continua por partes en $[0,N]$ para toda $N>0$ \n",
    "\n",
    "\n",
    "#### Ejemplo\n",
    "\n",
    "$$f(t)=\\begin{cases}t, &\\text{ si } 0<t<1\\\\\n",
    "2, &\\text{ si } 1<t<2\\\\ \n",
    "(t-1)^2, &\\text{ si } 2\\leq t \\leq 3\\end{cases}$$\n"
   ]
  },
  {
   "cell_type": "code",
   "execution_count": 47,
   "metadata": {
    "slideshow": {
     "slide_type": "skip"
    }
   },
   "outputs": [],
   "source": [
    "def toggle_cell_code(button_id):\n",
    "    \"\"\"\n",
    "    Adds a button to toggle (show/hide) the code cell but not the output. \n",
    "    \n",
    "    Parameters\n",
    "    ----------\n",
    "    button_id : str\n",
    "        An identifier for cells that will hide/show when button is pressed.\n",
    "    \"\"\"\n",
    "    \n",
    "    from IPython.display import display_html\n",
    "    my_html = '''\n",
    "    <button type=\"button\" id=\"%s\" onclick=\"code_toggle('%s')\">Codigo</button>\n",
    "    <script>\n",
    "    function code_toggle(my_id) {\n",
    "        // get the parent element for the cell code and output\n",
    "        var p = $(\"#\"+my_id);\n",
    "        if (p.length==0) return;\n",
    "        while (!p.hasClass(\"cell\")) {\n",
    "            p = p.parent();\n",
    "            if (p.prop(\"tagName\") ==\"body\") return;\n",
    "        }\n",
    "    // get the cell code and toggle its value\n",
    "    var cell_code = p.find(\".input\");\n",
    "    cell_code.toggle();\n",
    "    }\n",
    "    </script>\n",
    "    ''' %(button_id, button_id)\n",
    "    return display_html(my_html, raw=True)"
   ]
  },
  {
   "cell_type": "code",
   "execution_count": 50,
   "metadata": {
    "slideshow": {
     "slide_type": "slide"
    }
   },
   "outputs": [
    {
     "data": {
      "text/html": [
       "\n",
       "    <button type=\"button\" id=\"1\" onclick=\"code_toggle('1')\">Codigo</button>\n",
       "    <script>\n",
       "    function code_toggle(my_id) {\n",
       "        // get the parent element for the cell code and output\n",
       "        var p = $(\"#\"+my_id);\n",
       "        if (p.length==0) return;\n",
       "        while (!p.hasClass(\"cell\")) {\n",
       "            p = p.parent();\n",
       "            if (p.prop(\"tagName\") ==\"body\") return;\n",
       "        }\n",
       "    // get the cell code and toggle its value\n",
       "    var cell_code = p.find(\".input\");\n",
       "    cell_code.toggle();\n",
       "    }\n",
       "    </script>\n",
       "    "
      ]
     },
     "metadata": {},
     "output_type": "display_data"
    },
    {
     "data": {
      "image/png": "[encoded data removed]",
      "text/plain": [
       "<Figure size 640x480 with 1 Axes>"
      ]
     },
     "metadata": {},
     "output_type": "display_data"
    }
   ],
   "source": [
    "toggle_cell_code(\"1\")\n",
    "from sympy import symbols\n",
    "from sympy.plotting import plot\n",
    "\n",
    "x = symbols('x')\n",
    "\n",
    "p1=plot((x, (x, 0, 1)), (2, (x, 1, 2)),((x-1)**2, (x, 2,3)),line_color=\"blue\", show=False)\n",
    "p1.legend = False\n",
    "p1.show()\n",
    " #line_color=\"cyan\", show=False)\n"
   ]
  },
  {
   "cell_type": "markdown",
   "metadata": {
    "slideshow": {
     "slide_type": "slide"
    }
   },
   "source": [
    "## Definciónd e orden exponencial\n",
    "Una $f(t)$ es de **orden exponencial $\\alpha$** si existen constantes positivas $T$ y $M$ tales que\n",
    "\n",
    "\n",
    "\n",
    "\\begin{equation}\n",
    "|f(t)|\\leq Me^{\\alpha t}\\text{ para todo }t\\geq T\n",
    "\\label{eq:laplace3} \\tag{3}\n",
    "\\end{equation}\n"
   ]
  },
  {
   "cell_type": "markdown",
   "metadata": {
    "slideshow": {
     "slide_type": "subslide"
    }
   },
   "source": [
    "## Ejemplo\n",
    "\n",
    "Todo polinomio es de orden exponencial $\\alpha =-1$, puesto \n",
    "\n",
    "$$|t^2|\\leq \\frac{1}{2!}e^{t}$$"
   ]
  },
  {
   "cell_type": "code",
   "execution_count": 59,
   "metadata": {
    "slideshow": {
     "slide_type": "slide"
    }
   },
   "outputs": [
    {
     "data": {
      "text/html": [
       "\n",
       "    <button type=\"button\" id=\"2\" onclick=\"code_toggle('2')\">Codigo</button>\n",
       "    <script>\n",
       "    function code_toggle(my_id) {\n",
       "        // get the parent element for the cell code and output\n",
       "        var p = $(\"#\"+my_id);\n",
       "        if (p.length==0) return;\n",
       "        while (!p.hasClass(\"cell\")) {\n",
       "            p = p.parent();\n",
       "            if (p.prop(\"tagName\") ==\"body\") return;\n",
       "        }\n",
       "    // get the cell code and toggle its value\n",
       "    var cell_code = p.find(\".input\");\n",
       "    cell_code.toggle();\n",
       "    }\n",
       "    </script>\n",
       "    "
      ]
     },
     "metadata": {},
     "output_type": "display_data"
    },
    {
     "data": {
      "image/png": "[encoded data removed]",
      "text/plain": [
       "<Figure size 640x480 with 1 Axes>"
      ]
     },
     "metadata": {},
     "output_type": "display_data"
    }
   ],
   "source": [
    "toggle_cell_code(\"2\")\n",
    "from sympy import symbols\n",
    "from sympy.plotting import plot\n",
    "import sympy as sy\n",
    "\n",
    "x = symbols('x')\n",
    "n=1\n",
    "k=sy.factorial(n)\n",
    "p1=plot((x**n, (x, 0, 2)), (k*sy.exp(x), (x, 0,2)),show=False)\n",
    "p1.legend = True\n",
    "p1.show()"
   ]
  },
  {
   "cell_type": "markdown",
   "metadata": {
    "slideshow": {
     "slide_type": "subslide"
    }
   },
   "source": [
    "$$ \\lim_{t\\to \\infty}\\frac{t^2}{2e^{t}}=\\lim_{t\\to \\infty}\\frac{2t}{2e^{t}}=\\lim_{t\\to \\infty}\\frac{1}{e^{t}}=0$$"
   ]
  },
  {
   "cell_type": "markdown",
   "metadata": {
    "slideshow": {
     "slide_type": "subslide"
    }
   },
   "source": [
    "## Teorema condiciones y existencia de la Transformada de Laplace\n",
    "\n",
    "Si f(t) es continua por partes en $[0, \\infty)$ y de orden exponencial $\\alpha$, entonces $\\mathscr{L}[f](s)$ existe para $s>\\alpha$ ."
   ]
  },
  {
   "cell_type": "markdown",
   "metadata": {
    "slideshow": {
     "slide_type": "slide"
    }
   },
   "source": [
    "$$  \\begin{array}{lrr}\n",
    "    f(t) & F(s) &  \\text{condiciones}  \\\\\n",
    "     1 & \\frac{1}{s} & s>0 \\\\\n",
    "     e^{at} & \\frac{1}{s-a} & s>0 \\\\\n",
    "     t^n,\\text{ para }n=1,\\dots & \\frac{n!}{s^{n+1}} & s>0\\\\\n",
    "     \\sin(bt) & \\frac{b}{s^2+b^2} & s>a\\\\\n",
    "     \\cos(bt) & \\frac{s}{s^2+b^2} & s>a\\\\\n",
    "     e^{at}\\sin(bt) & \\frac{b}{(s-a)^2+b^2} & s>a\\\\\n",
    "     e^{at}\\cos(bt) & \\frac{s-a}{(s-a)^2+b^2} & s>a     \n",
    "  \\end{array}$$"
   ]
  },
  {
   "cell_type": "markdown",
   "metadata": {
    "slideshow": {
     "slide_type": "slide"
    }
   },
   "source": [
    "## Ejercicios\n",
    "\n",
    "1. Encuentre las transformaciones \n",
    "    \n",
    "    - $t^2+e^t\\sin(2t)$\n",
    "    \n",
    "    - $t^2-e^{2t}$\n",
    "    \n",
    "    -  $e^{7t}sin^2(t)$ use la identidad de angulos medios $\\sin^2(x)=\\frac{1-\\cos(2x)}{2}$\n",
    "    \n",
    "    - $f(t)=\\begin{cases}\\frac{1}{t}&\\text{ si }0<t<1,\\\\ 1&\\text{ si }1\\leq t\\leq 2\\\\\n",
    "    1-t&\\text{ si }2<t\\leq 10\\end{cases}$\n",
    "\n",
    "\n",
    "2. ¿Cuáles de las siguinetes funciones son de orden exponencial?\n",
    "\n",
    "    - $t^3\\sin(t)$\n",
    "    - $\\frac{1}{t^2 +1}$\n",
    "    - $3-e^{t^2}+\\cos(4t)$\n",
    "    \n",
    "3. De la tabla de transformaciones, $F(s)$ que se puede decir de $\\lim_{s\\to\\infty}F(s)$\n",
    "\n"
   ]
  },
  {
   "cell_type": "markdown",
   "metadata": {
    "slideshow": {
     "slide_type": "slide"
    }
   },
   "source": [
    "# Propiedades de Trnasformadad e Laplace\n",
    "\n",
    "## Propiedad de translación, \n",
    "\n",
    "**Teorema** Sea la trnasformadade Laplace $\\mathscr{L}[f](s)=F(s)$ existe para $s>\\alpha$ entonces\n",
    "$$\\mathscr{L}[e^{at}f(t)](s)=F(s-a)$$\n",
    "\n",
    "\n",
    "**Ejemplo** \n",
    "Cálcular la trnasformada de $f(t)=e^{5t}\\sin(3t)$,\n",
    "\n",
    "note que \n",
    "\n",
    "$$\\mathscr{L}[\\sin(3t)](s)=\\frac{3}{s^2+9}$$\n",
    "\n",
    "Luego \n",
    "\n",
    "$$\\mathscr{L}[e^{5t}\\sin(3t)](s)=\\frac{3}{(s-5)^2+9}$$"
   ]
  },
  {
   "cell_type": "markdown",
   "metadata": {},
   "source": [
    "## Trnasformadade  Laplace de la derivada\n",
    "\n",
    "**Teorema** Sea $f(t)$ continua en $[0,\\infty]$ y $f'(t)$ continua por partes en $(,\\infty)$, ambas de orden expnencial $\\alpha$. Entonces $s>\\alpha$\n",
    "\n",
    "$$\\mathscr{L}[f'(t)](s)=s\\mathscr{L}[f(t)](s)-f(0).$$\n",
    "\n",
    "**Ejemplo**\n",
    "\n",
    "Use el hecho de $\\mathscr{L}[\\sin(4t)](s)=\\frac{4}{s^2+16}$ para calcular $\\mathscr{L}[cos(4t)](s)$.\n",
    "\n",
    "\n",
    "\n",
    " Note que $$\\int(\\cos(4t))dt=\\frac{1}{4}\\sin(4t)+c$$ luego"
   ]
  }
 ],
 "metadata": {
  "celltoolbar": "Slideshow",
  "kernelspec": {
   "display_name": "Python 3 (ipykernel)",
   "language": "python",
   "name": "python3"
  },
  "language_info": {
   "codemirror_mode": {
    "name": "ipython",
    "version": 3
   },
   "file_extension": ".py",
   "mimetype": "text/x-python",
   "name": "python",
   "nbconvert_exporter": "python",
   "pygments_lexer": "ipython3",
   "version": "3.10.6"
  },
  "vscode": {
   "interpreter": {
    "hash": "b93e5908e9b2187e32ac4a06adba0bef6e95c00548838c108012cf8bb52612e0"
   }
  }
 },
 "nbformat": 4,
 "nbformat_minor": 2
}
