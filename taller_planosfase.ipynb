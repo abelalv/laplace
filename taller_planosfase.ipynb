{
 "cells": [
  {
   "cell_type": "markdown",
   "metadata": {},
   "source": [
    "# Taller de repaso  tercer parcial"
   ]
  },
  {
   "cell_type": "markdown",
   "metadata": {},
   "source": [
    "# Recuerde \n",
    "\n",
    "**Definición** Un punto $(x_0 , y_0)$  donde $f(x_0 , y _0) =0$ y $g(x_0 , y _0) =0$ es un **punto crítico** o **punto de equilibrio* del sistema \n",
    "\\begin{align}\n",
    "\\frac{dx}{dt}=f(x,y)\\\\\n",
    "\\frac{dx}{dt}=g(x,y)\n",
    "\\end{align}\n",
    "y la solución constante correspondiente $x(t)=x_0$ , y $y(t)=y_0$ es una solución de equilibrio. El conjunto de todos los puntos críticos es el conjunto de puntos críticos."
   ]
  },
  {
   "cell_type": "markdown",
   "metadata": {
    "id": "VdZVOpc8iYmE"
   },
   "source": [
    "# Ejercicios\n",
    "\n",
    "# Punto 1\n",
    " Realice el bosquejo del plano de fase de \n",
    "\n",
    "\n",
    "\n",
    "\n",
    "\n",
    "\n",
    "*  $\\begin{bmatrix}u'(t)\\\\v'(t)\\end{bmatrix}=\\begin{bmatrix}1 &3 \\\\ 0 &1\\end{bmatrix}\\begin{bmatrix}u(t)\\\\v(t)\\end{bmatrix}$.\n",
    "\n",
    "*  $\\begin{bmatrix}u'(t)\\\\v'(t)\\end{bmatrix}=\\begin{bmatrix}2 &-1 \\\\ 3 &-2\\end{bmatrix}\\begin{bmatrix}u(t)\\\\v(t)\\end{bmatrix}$.\n",
    "\n",
    "*  $\\begin{bmatrix}u'(t)\\\\v'(t)\\end{bmatrix}=\\begin{bmatrix}2 &-1 \\\\ 5 &-2\\end{bmatrix}\\begin{bmatrix}u(t)\\\\v(t)\\end{bmatrix}$.\n",
    "\n",
    "*  $\\begin{bmatrix}u'(t)\\\\v'(t)\\end{bmatrix}=\\begin{bmatrix}1 &0 \\\\ 2 &0\\end{bmatrix}\\begin{bmatrix}u(t)\\\\v(t)\\end{bmatrix}$.\n",
    "\n",
    "\n",
    "\n",
    "\n"
   ]
  },
  {
   "cell_type": "markdown",
   "metadata": {},
   "source": [
    "# Punto 2\n",
    " Determinar los puntos críticos y resolver la ecuación del plano fase para \n",
    "  \n",
    "  \\begin{align*}\n",
    " \\frac{dx}{dt}&=-y(y-2),\\\\\n",
    " \\frac{dy}{dt}&=(x-2)(y-2).\n",
    "  \\end{align*}\n",
    "\n",
    "  ¿Cuál es el comportamiento asintótico de las soluciones que parten de $(3,0)$,$(5,0)$ y $(2,3)$ ?"
   ]
  },
  {
   "cell_type": "markdown",
   "metadata": {},
   "source": [
    "# Punto 3\n",
    " En los problemas siguientes, convierta la ecuación de segundo orden dada en un sistema de primer orden haciendo $u=y'$ ¿Determine a continuación los puntos críticos en el plano yv . Por último, bosqueje (a mano o mediante algún software) los campos de direcciones, y describa la estabilidad de los puntos críticos.\n",
    "\n",
    "* $\\frac{d^2 y}{dt^2}=y$\n",
    "* $\\frac{d^2 y}{dt^2}+y+y^5=0$"
   ]
  },
  {
   "cell_type": "markdown",
   "metadata": {},
   "source": [
    "# Punto 4\n",
    "El sistema Volterra-Lotka de ecuaciones diferenciales para especies en competencia es:\n",
    "\n",
    "\\begin{align*}\n",
    "\\frac{dx}{dt}=x(-ax-by+c),\\\\\n",
    "\\frac{dy}{dt}=y(-dx+ey+f),\n",
    "\\end{align*}\n",
    "\n",
    "donde $x,y>0$ y $a,b,c,d,e,f>0$ son constantes  no negativas.\n",
    "\n",
    "* ¿Cómo alterarías el sistema de manera que las especies **cooperen**, es decir que cada especie ayude a la otra a sobrevivir y prosperar? (Ejemplo las flores y abaejas)\n",
    "\n",
    "* Describa el plano de fase de sistema que usted propone y cuales serian las diferencias con un sistema de competición.\n"
   ]
  },
  {
   "cell_type": "markdown",
   "metadata": {},
   "source": [
    "# Punto 5 \n",
    "**Péndulo no líneal con fricción** La ecuación que gobierna el movimiento del péndulo no lineal con fricción es:\n",
    "\n",
    "\\begin{equation}\n",
    "\\frac{d^2\\theta}{dt^2}=-\\frac{g}{l}\\sin\\theta-\\frac{b}{m}\\frac{d\\theta}{dt},\n",
    "\\end{equation}\n",
    "\n",
    "donde $b$ es una consatante de amortiguamiento, $m$ es la masa del péndulo, $l$ es la longitud del péndulo y $g$ es la aceleración de la gravedad ($g\\approx 9.8 m/s^2$). Todos los téminos son positvos.\n",
    "\n",
    "* Introduzca el parametro $v=\\frac{d \\theta}{d t}$ y escriba la ecuación como un sistema de ecuaciones diferenciales de primer orden.\n",
    "* Grafique en un plano la función  $-\\frac{g}{l}\\sin\\theta-\\frac{b}{m}v=0$, dele valores a $b$, $m$, $l$ (todos diferene de cero) y determine los puntos criticos del sistema.\n",
    "* Realice un bosquejo del plano de fase para el sistema de ecuaciones diferenciales que usted propone y haga un bosquejo de la solución para $\\theta(t)$.\n",
    "* ¿Qué sucede si $b=0$? ¿Cómo se comporta la velocidad? ¿Cómo se comporta el ángulo? Cuando $t\\to \\infty$.\n",
    "\n",
    "\n"
   ]
  },
  {
   "cell_type": "markdown",
   "metadata": {},
   "source": [
    "# Punto 6\n",
    "Determinar la transformada de Laplace,$\\mathscr{L}[f](s)$ para las siguientes funciones\n",
    "\n",
    "* $f(t)=e^{2t}$\n",
    "* $f(t)=\\sin(t)$\n",
    "\n",
    "* \n",
    "\n",
    "$f(t)= \\left\\{ \\begin{array}{lcc}\n",
    "             5 &   si  & t \\leq 2 \\\\\n",
    "             \\\\ 0 &  si & 2 < t < 5 \\\\\n",
    "             \\\\ 4t-15 &  si  & t \\geq 5\n",
    "             \\end{array}\n",
    "   \\right.$\n",
    "\n",
    "\n",
    "*  $t^2+e^t\\sin(2t)$\n",
    "    \n",
    "*  $t^2-e^{2t}$\n",
    "    \n",
    "*  $e^{7t}sin^2(t)$ use la identidad de angulos medios $\\sin^2(x)=\\frac{1-\\cos(2x)}{2}$\n",
    "    \n",
    "\n",
    "* $f(t)= \\left\\{ \\begin{array}{lcc}\n",
    "             e^{2t} &   si  & t \\leq 2 \\\\\n",
    "             \\\\ 0 &  si & 2 < t < 5 \\\\\n",
    "             \\\\ t^2-1 &  si  & t \\geq 5\n",
    "             \\end{array}\n",
    "   \\right.$ \n"
   ]
  }
 ],
 "metadata": {
  "colab": {
   "authorship_tag": "ABX9TyOvXFC29E22mf0atIJA1dth",
   "collapsed_sections": [],
   "name": "taller_sistemas.ipynb",
   "provenance": []
  },
  "hide_input": false,
  "kernelspec": {
   "display_name": "Python 3 (ipykernel)",
   "language": "python",
   "name": "python3"
  },
  "language_info": {
   "codemirror_mode": {
    "name": "ipython",
    "version": 3
   },
   "file_extension": ".py",
   "mimetype": "text/x-python",
   "name": "python",
   "nbconvert_exporter": "python",
   "pygments_lexer": "ipython3",
   "version": "3.10.6"
  },
  "latex_envs": {
   "LaTeX_envs_menu_present": true,
   "autoclose": false,
   "autocomplete": true,
   "bibliofile": "biblio.bib",
   "cite_by": "apalike",
   "current_citInitial": 1,
   "eqLabelWithNumbers": true,
   "eqNumInitial": 1,
   "hotkeys": {
    "equation": "Ctrl-E",
    "itemize": "Ctrl-I"
   },
   "labels_anchors": false,
   "latex_user_defs": false,
   "report_style_numbering": false,
   "user_envs_cfg": false
  },
  "varInspector": {
   "cols": {
    "lenName": 16,
    "lenType": 16,
    "lenVar": 40
   },
   "kernels_config": {
    "python": {
     "delete_cmd_postfix": "",
     "delete_cmd_prefix": "del ",
     "library": "var_list.py",
     "varRefreshCmd": "print(var_dic_list())"
    },
    "r": {
     "delete_cmd_postfix": ") ",
     "delete_cmd_prefix": "rm(",
     "library": "var_list.r",
     "varRefreshCmd": "cat(var_dic_list()) "
    }
   },
   "types_to_exclude": [
    "module",
    "function",
    "builtin_function_or_method",
    "instance",
    "_Feature"
   ],
   "window_display": false
  },
  "vscode": {
   "interpreter": {
    "hash": "b93e5908e9b2187e32ac4a06adba0bef6e95c00548838c108012cf8bb52612e0"
   }
  }
 },
 "nbformat": 4,
 "nbformat_minor": 1
}
